{
 "cells": [
  {
   "cell_type": "code",
   "execution_count": 2,
   "id": "df7e544b-bab5-44f2-a524-a7709c4daa96",
   "metadata": {},
   "outputs": [],
   "source": [
    "import pandas as pd\n",
    "import matplotlib.pyplot as plt\n",
    "import numpy as np"
   ]
  },
  {
   "cell_type": "code",
   "execution_count": 3,
   "id": "5b8eefc5-34ce-4408-9e37-c5bebb971d80",
   "metadata": {},
   "outputs": [],
   "source": [
    "df = pd.read_csv('div_academy_project.csv')"
   ]
  },
  {
   "cell_type": "code",
   "execution_count": 4,
   "id": "0a665a9d-1020-4194-a51a-53f0bd58a02b",
   "metadata": {},
   "outputs": [
    {
     "data": {
      "text/html": [
       "<div>\n",
       "<style scoped>\n",
       "    .dataframe tbody tr th:only-of-type {\n",
       "        vertical-align: middle;\n",
       "    }\n",
       "\n",
       "    .dataframe tbody tr th {\n",
       "        vertical-align: top;\n",
       "    }\n",
       "\n",
       "    .dataframe thead th {\n",
       "        text-align: right;\n",
       "    }\n",
       "</style>\n",
       "<table border=\"1\" class=\"dataframe\">\n",
       "  <thead>\n",
       "    <tr style=\"text-align: right;\">\n",
       "      <th></th>\n",
       "      <th>age</th>\n",
       "      <th>job</th>\n",
       "      <th>marital</th>\n",
       "      <th>education</th>\n",
       "      <th>default</th>\n",
       "      <th>balance</th>\n",
       "      <th>housing</th>\n",
       "      <th>loan</th>\n",
       "      <th>contact</th>\n",
       "      <th>day</th>\n",
       "      <th>month</th>\n",
       "      <th>duration</th>\n",
       "      <th>campaign</th>\n",
       "      <th>pdays</th>\n",
       "      <th>previous</th>\n",
       "      <th>poutcome</th>\n",
       "      <th>deposit</th>\n",
       "    </tr>\n",
       "  </thead>\n",
       "  <tbody>\n",
       "    <tr>\n",
       "      <th>0</th>\n",
       "      <td>59</td>\n",
       "      <td>admin.</td>\n",
       "      <td>married</td>\n",
       "      <td>secondary</td>\n",
       "      <td>no</td>\n",
       "      <td>2343</td>\n",
       "      <td>yes</td>\n",
       "      <td>no</td>\n",
       "      <td>unknown</td>\n",
       "      <td>5</td>\n",
       "      <td>may</td>\n",
       "      <td>1042</td>\n",
       "      <td>1</td>\n",
       "      <td>-1</td>\n",
       "      <td>0</td>\n",
       "      <td>unknown</td>\n",
       "      <td>yes</td>\n",
       "    </tr>\n",
       "    <tr>\n",
       "      <th>1</th>\n",
       "      <td>56</td>\n",
       "      <td>admin.</td>\n",
       "      <td>married</td>\n",
       "      <td>secondary</td>\n",
       "      <td>no</td>\n",
       "      <td>45</td>\n",
       "      <td>no</td>\n",
       "      <td>no</td>\n",
       "      <td>unknown</td>\n",
       "      <td>5</td>\n",
       "      <td>may</td>\n",
       "      <td>1467</td>\n",
       "      <td>1</td>\n",
       "      <td>-1</td>\n",
       "      <td>0</td>\n",
       "      <td>unknown</td>\n",
       "      <td>yes</td>\n",
       "    </tr>\n",
       "    <tr>\n",
       "      <th>2</th>\n",
       "      <td>41</td>\n",
       "      <td>technician</td>\n",
       "      <td>married</td>\n",
       "      <td>secondary</td>\n",
       "      <td>no</td>\n",
       "      <td>1270</td>\n",
       "      <td>yes</td>\n",
       "      <td>no</td>\n",
       "      <td>unknown</td>\n",
       "      <td>5</td>\n",
       "      <td>may</td>\n",
       "      <td>1389</td>\n",
       "      <td>1</td>\n",
       "      <td>-1</td>\n",
       "      <td>0</td>\n",
       "      <td>unknown</td>\n",
       "      <td>yes</td>\n",
       "    </tr>\n",
       "    <tr>\n",
       "      <th>3</th>\n",
       "      <td>55</td>\n",
       "      <td>services</td>\n",
       "      <td>married</td>\n",
       "      <td>secondary</td>\n",
       "      <td>no</td>\n",
       "      <td>2476</td>\n",
       "      <td>yes</td>\n",
       "      <td>no</td>\n",
       "      <td>unknown</td>\n",
       "      <td>5</td>\n",
       "      <td>may</td>\n",
       "      <td>579</td>\n",
       "      <td>1</td>\n",
       "      <td>-1</td>\n",
       "      <td>0</td>\n",
       "      <td>unknown</td>\n",
       "      <td>yes</td>\n",
       "    </tr>\n",
       "    <tr>\n",
       "      <th>4</th>\n",
       "      <td>54</td>\n",
       "      <td>admin.</td>\n",
       "      <td>married</td>\n",
       "      <td>tertiary</td>\n",
       "      <td>no</td>\n",
       "      <td>184</td>\n",
       "      <td>no</td>\n",
       "      <td>no</td>\n",
       "      <td>unknown</td>\n",
       "      <td>5</td>\n",
       "      <td>may</td>\n",
       "      <td>673</td>\n",
       "      <td>2</td>\n",
       "      <td>-1</td>\n",
       "      <td>0</td>\n",
       "      <td>unknown</td>\n",
       "      <td>yes</td>\n",
       "    </tr>\n",
       "  </tbody>\n",
       "</table>\n",
       "</div>"
      ],
      "text/plain": [
       "   age         job  marital  education default  balance housing loan  contact  \\\n",
       "0   59      admin.  married  secondary      no     2343     yes   no  unknown   \n",
       "1   56      admin.  married  secondary      no       45      no   no  unknown   \n",
       "2   41  technician  married  secondary      no     1270     yes   no  unknown   \n",
       "3   55    services  married  secondary      no     2476     yes   no  unknown   \n",
       "4   54      admin.  married   tertiary      no      184      no   no  unknown   \n",
       "\n",
       "   day month  duration  campaign  pdays  previous poutcome deposit  \n",
       "0    5   may      1042         1     -1         0  unknown     yes  \n",
       "1    5   may      1467         1     -1         0  unknown     yes  \n",
       "2    5   may      1389         1     -1         0  unknown     yes  \n",
       "3    5   may       579         1     -1         0  unknown     yes  \n",
       "4    5   may       673         2     -1         0  unknown     yes  "
      ]
     },
     "execution_count": 4,
     "metadata": {},
     "output_type": "execute_result"
    }
   ],
   "source": [
    "df.head()"
   ]
  },
  {
   "cell_type": "code",
   "execution_count": 583,
   "id": "965cbeb2-20ae-4f08-b569-be44eea0db0b",
   "metadata": {},
   "outputs": [
    {
     "data": {
      "text/plain": [
       "Index(['age', 'job', 'marital', 'education', 'default', 'balance', 'housing',\n",
       "       'loan', 'contact', 'day', 'month', 'duration', 'campaign', 'pdays',\n",
       "       'previous', 'poutcome', 'deposit'],\n",
       "      dtype='object')"
      ]
     },
     "execution_count": 583,
     "metadata": {},
     "output_type": "execute_result"
    }
   ],
   "source": [
    "df.columns"
   ]
  },
  {
   "cell_type": "markdown",
   "id": "152df94f-4e97-486c-9b60-d2971370357a",
   "metadata": {},
   "source": [
    "# featureler uzre ortalama na analizi"
   ]
  },
  {
   "cell_type": "code",
   "execution_count": 584,
   "id": "76464422-816a-439b-9f98-1a98f8255422",
   "metadata": {},
   "outputs": [
    {
     "data": {
      "text/html": [
       "<div>\n",
       "<style scoped>\n",
       "    .dataframe tbody tr th:only-of-type {\n",
       "        vertical-align: middle;\n",
       "    }\n",
       "\n",
       "    .dataframe tbody tr th {\n",
       "        vertical-align: top;\n",
       "    }\n",
       "\n",
       "    .dataframe thead th {\n",
       "        text-align: right;\n",
       "    }\n",
       "</style>\n",
       "<table border=\"1\" class=\"dataframe\">\n",
       "  <thead>\n",
       "    <tr style=\"text-align: right;\">\n",
       "      <th></th>\n",
       "      <th>age</th>\n",
       "      <th>balance</th>\n",
       "      <th>day</th>\n",
       "      <th>duration</th>\n",
       "      <th>campaign</th>\n",
       "      <th>pdays</th>\n",
       "      <th>previous</th>\n",
       "    </tr>\n",
       "  </thead>\n",
       "  <tbody>\n",
       "    <tr>\n",
       "      <th>count</th>\n",
       "      <td>11162.000000</td>\n",
       "      <td>11162.000000</td>\n",
       "      <td>11162.000000</td>\n",
       "      <td>11162.000000</td>\n",
       "      <td>11162.000000</td>\n",
       "      <td>11162.000000</td>\n",
       "      <td>11162.000000</td>\n",
       "    </tr>\n",
       "    <tr>\n",
       "      <th>mean</th>\n",
       "      <td>41.231948</td>\n",
       "      <td>1528.538524</td>\n",
       "      <td>15.658036</td>\n",
       "      <td>371.993818</td>\n",
       "      <td>2.508421</td>\n",
       "      <td>51.330407</td>\n",
       "      <td>0.832557</td>\n",
       "    </tr>\n",
       "    <tr>\n",
       "      <th>std</th>\n",
       "      <td>11.913369</td>\n",
       "      <td>3225.413326</td>\n",
       "      <td>8.420740</td>\n",
       "      <td>347.128386</td>\n",
       "      <td>2.722077</td>\n",
       "      <td>108.758282</td>\n",
       "      <td>2.292007</td>\n",
       "    </tr>\n",
       "    <tr>\n",
       "      <th>min</th>\n",
       "      <td>18.000000</td>\n",
       "      <td>-6847.000000</td>\n",
       "      <td>1.000000</td>\n",
       "      <td>2.000000</td>\n",
       "      <td>1.000000</td>\n",
       "      <td>-1.000000</td>\n",
       "      <td>0.000000</td>\n",
       "    </tr>\n",
       "    <tr>\n",
       "      <th>25%</th>\n",
       "      <td>32.000000</td>\n",
       "      <td>122.000000</td>\n",
       "      <td>8.000000</td>\n",
       "      <td>138.000000</td>\n",
       "      <td>1.000000</td>\n",
       "      <td>-1.000000</td>\n",
       "      <td>0.000000</td>\n",
       "    </tr>\n",
       "    <tr>\n",
       "      <th>50%</th>\n",
       "      <td>39.000000</td>\n",
       "      <td>550.000000</td>\n",
       "      <td>15.000000</td>\n",
       "      <td>255.000000</td>\n",
       "      <td>2.000000</td>\n",
       "      <td>-1.000000</td>\n",
       "      <td>0.000000</td>\n",
       "    </tr>\n",
       "    <tr>\n",
       "      <th>75%</th>\n",
       "      <td>49.000000</td>\n",
       "      <td>1708.000000</td>\n",
       "      <td>22.000000</td>\n",
       "      <td>496.000000</td>\n",
       "      <td>3.000000</td>\n",
       "      <td>20.750000</td>\n",
       "      <td>1.000000</td>\n",
       "    </tr>\n",
       "    <tr>\n",
       "      <th>max</th>\n",
       "      <td>95.000000</td>\n",
       "      <td>81204.000000</td>\n",
       "      <td>31.000000</td>\n",
       "      <td>3881.000000</td>\n",
       "      <td>63.000000</td>\n",
       "      <td>854.000000</td>\n",
       "      <td>58.000000</td>\n",
       "    </tr>\n",
       "  </tbody>\n",
       "</table>\n",
       "</div>"
      ],
      "text/plain": [
       "                age       balance           day      duration      campaign  \\\n",
       "count  11162.000000  11162.000000  11162.000000  11162.000000  11162.000000   \n",
       "mean      41.231948   1528.538524     15.658036    371.993818      2.508421   \n",
       "std       11.913369   3225.413326      8.420740    347.128386      2.722077   \n",
       "min       18.000000  -6847.000000      1.000000      2.000000      1.000000   \n",
       "25%       32.000000    122.000000      8.000000    138.000000      1.000000   \n",
       "50%       39.000000    550.000000     15.000000    255.000000      2.000000   \n",
       "75%       49.000000   1708.000000     22.000000    496.000000      3.000000   \n",
       "max       95.000000  81204.000000     31.000000   3881.000000     63.000000   \n",
       "\n",
       "              pdays      previous  \n",
       "count  11162.000000  11162.000000  \n",
       "mean      51.330407      0.832557  \n",
       "std      108.758282      2.292007  \n",
       "min       -1.000000      0.000000  \n",
       "25%       -1.000000      0.000000  \n",
       "50%       -1.000000      0.000000  \n",
       "75%       20.750000      1.000000  \n",
       "max      854.000000     58.000000  "
      ]
     },
     "execution_count": 584,
     "metadata": {},
     "output_type": "execute_result"
    }
   ],
   "source": [
    "df.describe()"
   ]
  },
  {
   "cell_type": "markdown",
   "id": "ea6aa64c-9761-42c9-b96c-7dc44e211d98",
   "metadata": {},
   "source": [
    "# default sutunundaki yes deyerleri 1 no deyerleri 0 olaraq deyisin"
   ]
  },
  {
   "cell_type": "code",
   "execution_count": 585,
   "id": "ac0b3116-07d0-449c-9d20-11e0aca1838c",
   "metadata": {},
   "outputs": [
    {
     "data": {
      "text/plain": [
       "default\n",
       "no     10994\n",
       "yes      168\n",
       "Name: count, dtype: int64"
      ]
     },
     "execution_count": 585,
     "metadata": {},
     "output_type": "execute_result"
    }
   ],
   "source": [
    "df[\"default\"].value_counts()"
   ]
  },
  {
   "cell_type": "code",
   "execution_count": 586,
   "id": "573ec155-e584-4267-976c-fca97c608522",
   "metadata": {},
   "outputs": [],
   "source": [
    "df['default'] = df['default'].apply(lambda x: 1 if x == 'yes' else 0) #mapla da olar"
   ]
  },
  {
   "cell_type": "code",
   "execution_count": 587,
   "id": "05340ba0-b047-4e3f-ab9e-e8200d07cb74",
   "metadata": {},
   "outputs": [
    {
     "data": {
      "text/plain": [
       "default\n",
       "0    10994\n",
       "1      168\n",
       "Name: count, dtype: int64"
      ]
     },
     "execution_count": 587,
     "metadata": {},
     "output_type": "execute_result"
    }
   ],
   "source": [
    "df[\"default\"].value_counts()"
   ]
  },
  {
   "cell_type": "markdown",
   "id": "b92bf8de-12e3-4910-ba39-f992a837384a",
   "metadata": {},
   "source": [
    "# default rate en cox olan 3 peseni tapin"
   ]
  },
  {
   "cell_type": "code",
   "execution_count": 588,
   "id": "41d04d59-d644-4d18-80a8-fa0a58159598",
   "metadata": {},
   "outputs": [],
   "source": [
    "default_counts = df.groupby('job')['default'].sum()\n",
    "total_counts = df.groupby('job')['default'].count()"
   ]
  },
  {
   "cell_type": "code",
   "execution_count": 589,
   "id": "d34a4ea4-ab22-4ef6-8ae8-2805dd19e3f7",
   "metadata": {},
   "outputs": [],
   "source": [
    "default_rate = (default_counts*100 / total_counts).sort_values(ascending=False)"
   ]
  },
  {
   "cell_type": "code",
   "execution_count": 590,
   "id": "827f3291-9360-4f1c-a16b-c0a7f353bd77",
   "metadata": {},
   "outputs": [],
   "source": [
    "top_3_jobs = default_rate.head(3)"
   ]
  },
  {
   "cell_type": "code",
   "execution_count": 591,
   "id": "2a868f17-0c9c-475b-8b83-6c64c842f9b0",
   "metadata": {},
   "outputs": [
    {
     "data": {
      "text/plain": [
       "job\n",
       "entrepreneur    3.048780\n",
       "housemaid       2.919708\n",
       "unemployed      2.240896\n",
       "Name: default, dtype: float64"
      ]
     },
     "execution_count": 591,
     "metadata": {},
     "output_type": "execute_result"
    }
   ],
   "source": [
    "top_3_jobs"
   ]
  },
  {
   "cell_type": "markdown",
   "id": "ed267e1c-ace1-448d-956c-eebe84419d26",
   "metadata": {},
   "source": [
    "# categorical sutunlari secen kod yazin"
   ]
  },
  {
   "cell_type": "code",
   "execution_count": 592,
   "id": "3173d78d-02b5-4756-932d-15230af1843b",
   "metadata": {},
   "outputs": [],
   "source": [
    "categorical_columns = [col for col in df.columns if df[col].dtype == 'object']# include olar"
   ]
  },
  {
   "cell_type": "code",
   "execution_count": 593,
   "id": "0ed6e83a-8cf9-4110-9682-4e8e0b6d31a6",
   "metadata": {},
   "outputs": [
    {
     "data": {
      "text/plain": [
       "['job',\n",
       " 'marital',\n",
       " 'education',\n",
       " 'housing',\n",
       " 'loan',\n",
       " 'contact',\n",
       " 'month',\n",
       " 'poutcome',\n",
       " 'deposit']"
      ]
     },
     "execution_count": 593,
     "metadata": {},
     "output_type": "execute_result"
    }
   ],
   "source": [
    "categorical_columns"
   ]
  },
  {
   "cell_type": "markdown",
   "id": "ecfddf74-908e-4b13-a68f-9a338a0ce934",
   "metadata": {},
   "source": [
    "# unknown yazilanlari na ile evez edin"
   ]
  },
  {
   "cell_type": "code",
   "execution_count": 594,
   "id": "86a5ae0b-38bb-4209-8323-b06b1950b043",
   "metadata": {},
   "outputs": [],
   "source": [
    "df = df.replace(\"unknown\", pd.NA)"
   ]
  },
  {
   "cell_type": "code",
   "execution_count": 595,
   "id": "1814e600-d815-4a72-8a97-c48f58d5b38d",
   "metadata": {},
   "outputs": [
    {
     "data": {
      "text/html": [
       "<div>\n",
       "<style scoped>\n",
       "    .dataframe tbody tr th:only-of-type {\n",
       "        vertical-align: middle;\n",
       "    }\n",
       "\n",
       "    .dataframe tbody tr th {\n",
       "        vertical-align: top;\n",
       "    }\n",
       "\n",
       "    .dataframe thead th {\n",
       "        text-align: right;\n",
       "    }\n",
       "</style>\n",
       "<table border=\"1\" class=\"dataframe\">\n",
       "  <thead>\n",
       "    <tr style=\"text-align: right;\">\n",
       "      <th></th>\n",
       "      <th>age</th>\n",
       "      <th>job</th>\n",
       "      <th>marital</th>\n",
       "      <th>education</th>\n",
       "      <th>default</th>\n",
       "      <th>balance</th>\n",
       "      <th>housing</th>\n",
       "      <th>loan</th>\n",
       "      <th>contact</th>\n",
       "      <th>day</th>\n",
       "      <th>month</th>\n",
       "      <th>duration</th>\n",
       "      <th>campaign</th>\n",
       "      <th>pdays</th>\n",
       "      <th>previous</th>\n",
       "      <th>poutcome</th>\n",
       "      <th>deposit</th>\n",
       "    </tr>\n",
       "  </thead>\n",
       "  <tbody>\n",
       "    <tr>\n",
       "      <th>0</th>\n",
       "      <td>59</td>\n",
       "      <td>admin.</td>\n",
       "      <td>married</td>\n",
       "      <td>secondary</td>\n",
       "      <td>0</td>\n",
       "      <td>2343</td>\n",
       "      <td>yes</td>\n",
       "      <td>no</td>\n",
       "      <td>&lt;NA&gt;</td>\n",
       "      <td>5</td>\n",
       "      <td>may</td>\n",
       "      <td>1042</td>\n",
       "      <td>1</td>\n",
       "      <td>-1</td>\n",
       "      <td>0</td>\n",
       "      <td>&lt;NA&gt;</td>\n",
       "      <td>yes</td>\n",
       "    </tr>\n",
       "    <tr>\n",
       "      <th>1</th>\n",
       "      <td>56</td>\n",
       "      <td>admin.</td>\n",
       "      <td>married</td>\n",
       "      <td>secondary</td>\n",
       "      <td>0</td>\n",
       "      <td>45</td>\n",
       "      <td>no</td>\n",
       "      <td>no</td>\n",
       "      <td>&lt;NA&gt;</td>\n",
       "      <td>5</td>\n",
       "      <td>may</td>\n",
       "      <td>1467</td>\n",
       "      <td>1</td>\n",
       "      <td>-1</td>\n",
       "      <td>0</td>\n",
       "      <td>&lt;NA&gt;</td>\n",
       "      <td>yes</td>\n",
       "    </tr>\n",
       "    <tr>\n",
       "      <th>2</th>\n",
       "      <td>41</td>\n",
       "      <td>technician</td>\n",
       "      <td>married</td>\n",
       "      <td>secondary</td>\n",
       "      <td>0</td>\n",
       "      <td>1270</td>\n",
       "      <td>yes</td>\n",
       "      <td>no</td>\n",
       "      <td>&lt;NA&gt;</td>\n",
       "      <td>5</td>\n",
       "      <td>may</td>\n",
       "      <td>1389</td>\n",
       "      <td>1</td>\n",
       "      <td>-1</td>\n",
       "      <td>0</td>\n",
       "      <td>&lt;NA&gt;</td>\n",
       "      <td>yes</td>\n",
       "    </tr>\n",
       "    <tr>\n",
       "      <th>3</th>\n",
       "      <td>55</td>\n",
       "      <td>services</td>\n",
       "      <td>married</td>\n",
       "      <td>secondary</td>\n",
       "      <td>0</td>\n",
       "      <td>2476</td>\n",
       "      <td>yes</td>\n",
       "      <td>no</td>\n",
       "      <td>&lt;NA&gt;</td>\n",
       "      <td>5</td>\n",
       "      <td>may</td>\n",
       "      <td>579</td>\n",
       "      <td>1</td>\n",
       "      <td>-1</td>\n",
       "      <td>0</td>\n",
       "      <td>&lt;NA&gt;</td>\n",
       "      <td>yes</td>\n",
       "    </tr>\n",
       "    <tr>\n",
       "      <th>4</th>\n",
       "      <td>54</td>\n",
       "      <td>admin.</td>\n",
       "      <td>married</td>\n",
       "      <td>tertiary</td>\n",
       "      <td>0</td>\n",
       "      <td>184</td>\n",
       "      <td>no</td>\n",
       "      <td>no</td>\n",
       "      <td>&lt;NA&gt;</td>\n",
       "      <td>5</td>\n",
       "      <td>may</td>\n",
       "      <td>673</td>\n",
       "      <td>2</td>\n",
       "      <td>-1</td>\n",
       "      <td>0</td>\n",
       "      <td>&lt;NA&gt;</td>\n",
       "      <td>yes</td>\n",
       "    </tr>\n",
       "  </tbody>\n",
       "</table>\n",
       "</div>"
      ],
      "text/plain": [
       "   age         job  marital  education  default  balance housing loan contact  \\\n",
       "0   59      admin.  married  secondary        0     2343     yes   no    <NA>   \n",
       "1   56      admin.  married  secondary        0       45      no   no    <NA>   \n",
       "2   41  technician  married  secondary        0     1270     yes   no    <NA>   \n",
       "3   55    services  married  secondary        0     2476     yes   no    <NA>   \n",
       "4   54      admin.  married   tertiary        0      184      no   no    <NA>   \n",
       "\n",
       "   day month  duration  campaign  pdays  previous poutcome deposit  \n",
       "0    5   may      1042         1     -1         0     <NA>     yes  \n",
       "1    5   may      1467         1     -1         0     <NA>     yes  \n",
       "2    5   may      1389         1     -1         0     <NA>     yes  \n",
       "3    5   may       579         1     -1         0     <NA>     yes  \n",
       "4    5   may       673         2     -1         0     <NA>     yes  "
      ]
     },
     "execution_count": 595,
     "metadata": {},
     "output_type": "execute_result"
    }
   ],
   "source": [
    "df.head()"
   ]
  },
  {
   "cell_type": "markdown",
   "id": "13cc105d-7766-4011-9589-af34746b2460",
   "metadata": {},
   "source": [
    "# hər bir sutun uzre na valuelerini tapan kod yazin"
   ]
  },
  {
   "cell_type": "code",
   "execution_count": 596,
   "id": "178ce1a6-4ccf-4f0d-8955-73d6c79cd60c",
   "metadata": {},
   "outputs": [],
   "source": [
    "na_counts = df.isna().sum()"
   ]
  },
  {
   "cell_type": "code",
   "execution_count": 597,
   "id": "2d8f5469-c501-46f7-8243-3b857fe991ce",
   "metadata": {},
   "outputs": [
    {
     "data": {
      "text/plain": [
       "age             0\n",
       "job            70\n",
       "marital         0\n",
       "education     497\n",
       "default         0\n",
       "balance         0\n",
       "housing         0\n",
       "loan            0\n",
       "contact      2346\n",
       "day             0\n",
       "month           0\n",
       "duration        0\n",
       "campaign        0\n",
       "pdays           0\n",
       "previous        0\n",
       "poutcome     8326\n",
       "deposit         0\n",
       "dtype: int64"
      ]
     },
     "execution_count": 597,
     "metadata": {},
     "output_type": "execute_result"
    }
   ],
   "source": [
    "na_counts"
   ]
  },
  {
   "cell_type": "markdown",
   "id": "305f3791-2c5f-4bac-b0d4-ac0114da72d4",
   "metadata": {},
   "source": [
    "# aylar uzre default rateleri vizuallasdirin"
   ]
  },
  {
   "cell_type": "code",
   "execution_count": 598,
   "id": "276071fe-66c1-4a85-b6c3-bff21fb8d12e",
   "metadata": {},
   "outputs": [],
   "source": [
    "default_rate_by_month = df.groupby('month')['default'].mean()*100"
   ]
  },
  {
   "cell_type": "code",
   "execution_count": 599,
   "id": "0fff17cf-14e7-4d18-b354-c9e66e344218",
   "metadata": {},
   "outputs": [
    {
     "data": {
      "text/plain": [
       "month\n",
       "apr    0.758397\n",
       "aug    1.382488\n",
       "dec    0.000000\n",
       "feb    0.644330\n",
       "jan    1.744186\n",
       "jul    3.038309\n",
       "jun    2.127660\n",
       "mar    0.000000\n",
       "may    1.487252\n",
       "nov    1.484624\n",
       "oct    0.000000\n",
       "sep    0.313480\n",
       "Name: default, dtype: float64"
      ]
     },
     "execution_count": 599,
     "metadata": {},
     "output_type": "execute_result"
    }
   ],
   "source": [
    "default_rate_by_month"
   ]
  },
  {
   "cell_type": "code",
   "execution_count": 600,
   "id": "a6caea90-0aba-4f72-8269-d1e4a485c8db",
   "metadata": {},
   "outputs": [
    {
     "data": {
      "image/png": "[encoded data removed]",
      "text/plain": [
       "<Figure size 640x480 with 1 Axes>"
      ]
     },
     "metadata": {},
     "output_type": "display_data"
    }
   ],
   "source": [
    "default_rate_by_month.plot(kind='bar', color='blue')\n",
    "plt.title('Default Rate by Month') \n",
    "plt.xlabel('Month')  \n",
    "plt.ylabel('Default Rate %')  \n",
    "plt.show()\n"
   ]
  },
  {
   "cell_type": "markdown",
   "id": "35a105e3-73ab-4616-b12b-575efd64f163",
   "metadata": {},
   "source": [
    "# NAN valueleri impute edin"
   ]
  },
  {
   "cell_type": "code",
   "execution_count": 601,
   "id": "98d4211b-b421-40ac-b09b-b73f3e6f5684",
   "metadata": {},
   "outputs": [
    {
     "data": {
      "text/plain": [
       "age             0\n",
       "job            70\n",
       "marital         0\n",
       "education     497\n",
       "default         0\n",
       "balance         0\n",
       "housing         0\n",
       "loan            0\n",
       "contact      2346\n",
       "day             0\n",
       "month           0\n",
       "duration        0\n",
       "campaign        0\n",
       "pdays           0\n",
       "previous        0\n",
       "poutcome     8326\n",
       "deposit         0\n",
       "dtype: int64"
      ]
     },
     "execution_count": 601,
     "metadata": {},
     "output_type": "execute_result"
    }
   ],
   "source": [
    "na_counts"
   ]
  },
  {
   "cell_type": "code",
   "execution_count": 602,
   "id": "aa9b521d-1476-4035-9a2e-8dd367496993",
   "metadata": {},
   "outputs": [],
   "source": [
    "# Bunlarin hamisi kateqorik deyerlerdir"
   ]
  },
  {
   "cell_type": "code",
   "execution_count": 603,
   "id": "35eee3c5-7f1e-41c2-991d-adaded9e204e",
   "metadata": {},
   "outputs": [],
   "source": [
    "#job"
   ]
  },
  {
   "cell_type": "code",
   "execution_count": 604,
   "id": "496a6dfd-f51d-4529-9829-2d3c0868f7a0",
   "metadata": {},
   "outputs": [
    {
     "name": "stdout",
     "output_type": "stream",
     "text": [
      "job\n",
      "management       2566\n",
      "blue-collar      1944\n",
      "technician       1823\n",
      "admin.           1334\n",
      "services          923\n",
      "retired           778\n",
      "self-employed     405\n",
      "student           360\n",
      "unemployed        357\n",
      "entrepreneur      328\n",
      "housemaid         274\n",
      "<NA>               70\n",
      "Name: count, dtype: int64\n"
     ]
    }
   ],
   "source": [
    "print(df['job'].value_counts(dropna=False))"
   ]
  },
  {
   "cell_type": "code",
   "execution_count": 605,
   "id": "ade11ad8-2c11-4d02-8a7a-2df35985bcf8",
   "metadata": {},
   "outputs": [],
   "source": [
    "df['job'] = df['job'].fillna(df['job'].mode()[0])"
   ]
  },
  {
   "cell_type": "code",
   "execution_count": 606,
   "id": "12039f95-3399-4692-ac05-e38798d2ac40",
   "metadata": {},
   "outputs": [
    {
     "name": "stdout",
     "output_type": "stream",
     "text": [
      "job\n",
      "management       2636\n",
      "blue-collar      1944\n",
      "technician       1823\n",
      "admin.           1334\n",
      "services          923\n",
      "retired           778\n",
      "self-employed     405\n",
      "student           360\n",
      "unemployed        357\n",
      "entrepreneur      328\n",
      "housemaid         274\n",
      "Name: count, dtype: int64\n"
     ]
    }
   ],
   "source": [
    "print(df['job'].value_counts(dropna=False))"
   ]
  },
  {
   "cell_type": "code",
   "execution_count": 607,
   "id": "b7248827-3886-40de-a7fc-c6556324ccea",
   "metadata": {},
   "outputs": [],
   "source": [
    "# education"
   ]
  },
  {
   "cell_type": "code",
   "execution_count": 608,
   "id": "386bd96d-c677-4b71-85b3-93ba5895d260",
   "metadata": {},
   "outputs": [
    {
     "name": "stdout",
     "output_type": "stream",
     "text": [
      "education\n",
      "secondary    5476\n",
      "tertiary     3689\n",
      "primary      1500\n",
      "<NA>          497\n",
      "Name: count, dtype: int64\n"
     ]
    }
   ],
   "source": [
    "print(df['education'].value_counts(dropna=False))"
   ]
  },
  {
   "cell_type": "code",
   "execution_count": 609,
   "id": "eb2c5371-8868-4182-a147-f7febca281fd",
   "metadata": {},
   "outputs": [],
   "source": [
    "df['education'] = df['education'].fillna(df['education'].mode()[0])"
   ]
  },
  {
   "cell_type": "code",
   "execution_count": 610,
   "id": "21880e81-a1f6-4115-94c6-70e8a13a2dc8",
   "metadata": {},
   "outputs": [
    {
     "name": "stdout",
     "output_type": "stream",
     "text": [
      "education\n",
      "secondary    5973\n",
      "tertiary     3689\n",
      "primary      1500\n",
      "Name: count, dtype: int64\n"
     ]
    }
   ],
   "source": [
    "print(df['education'].value_counts(dropna=False))"
   ]
  },
  {
   "cell_type": "code",
   "execution_count": 611,
   "id": "a4eebf1b-d38c-4c36-b1d4-73839da66371",
   "metadata": {},
   "outputs": [],
   "source": [
    "#contact"
   ]
  },
  {
   "cell_type": "code",
   "execution_count": 612,
   "id": "7a3d4efc-1fd2-4f67-be61-d79ada349272",
   "metadata": {},
   "outputs": [
    {
     "name": "stdout",
     "output_type": "stream",
     "text": [
      "contact\n",
      "cellular     8042\n",
      "<NA>         2346\n",
      "telephone     774\n",
      "Name: count, dtype: int64\n"
     ]
    }
   ],
   "source": [
    "print(df['contact'].value_counts(dropna=False))"
   ]
  },
  {
   "cell_type": "code",
   "execution_count": 613,
   "id": "d7cb3320-b37c-4487-9a9f-b8ae6ff06ef1",
   "metadata": {},
   "outputs": [],
   "source": [
    "df['contact'] = df['contact'].fillna(df['contact'].mode()[0])"
   ]
  },
  {
   "cell_type": "code",
   "execution_count": 614,
   "id": "3b9856ce-93a0-4287-b70c-17c68e2438c8",
   "metadata": {},
   "outputs": [
    {
     "name": "stdout",
     "output_type": "stream",
     "text": [
      "contact\n",
      "cellular     10388\n",
      "telephone      774\n",
      "Name: count, dtype: int64\n"
     ]
    }
   ],
   "source": [
    "print(df['contact'].value_counts(dropna=False))"
   ]
  },
  {
   "cell_type": "code",
   "execution_count": 615,
   "id": "f2aa4bcc-ceee-415b-95a0-4d126a20ffbd",
   "metadata": {},
   "outputs": [],
   "source": [
    "# poutcome"
   ]
  },
  {
   "cell_type": "code",
   "execution_count": 616,
   "id": "fc44be13-3f41-479d-9af5-49eb71835a1f",
   "metadata": {},
   "outputs": [
    {
     "name": "stdout",
     "output_type": "stream",
     "text": [
      "poutcome\n",
      "<NA>       8326\n",
      "failure    1228\n",
      "success    1071\n",
      "other       537\n",
      "Name: count, dtype: int64\n"
     ]
    }
   ],
   "source": [
    "print(df['poutcome'].value_counts(dropna=False))"
   ]
  },
  {
   "cell_type": "code",
   "execution_count": 617,
   "id": "46765278-280f-4165-9909-63aca7855cc6",
   "metadata": {},
   "outputs": [],
   "source": [
    "df['poutcome'] = df['poutcome'].fillna(\"Unknown\")"
   ]
  },
  {
   "cell_type": "code",
   "execution_count": 618,
   "id": "473d9d7f-c11a-475d-9dee-e48f8c1a6ea7",
   "metadata": {},
   "outputs": [
    {
     "name": "stdout",
     "output_type": "stream",
     "text": [
      "poutcome\n",
      "Unknown    8326\n",
      "failure    1228\n",
      "success    1071\n",
      "other       537\n",
      "Name: count, dtype: int64\n"
     ]
    }
   ],
   "source": [
    "print(df['poutcome'].value_counts(dropna=False))"
   ]
  },
  {
   "cell_type": "code",
   "execution_count": 619,
   "id": "05763e54-0918-45a9-a9e4-9f9c4ce4252e",
   "metadata": {},
   "outputs": [
    {
     "data": {
      "text/plain": [
       "age          0\n",
       "job          0\n",
       "marital      0\n",
       "education    0\n",
       "default      0\n",
       "balance      0\n",
       "housing      0\n",
       "loan         0\n",
       "contact      0\n",
       "day          0\n",
       "month        0\n",
       "duration     0\n",
       "campaign     0\n",
       "pdays        0\n",
       "previous     0\n",
       "poutcome     0\n",
       "deposit      0\n",
       "dtype: int64"
      ]
     },
     "execution_count": 619,
     "metadata": {},
     "output_type": "execute_result"
    }
   ],
   "source": [
    "df.isna().sum()"
   ]
  },
  {
   "cell_type": "markdown",
   "id": "e6dd333a-fc51-4f03-a1ce-612cd957c9e7",
   "metadata": {},
   "source": [
    "# binned column yaradi yas sutununa esasen"
   ]
  },
  {
   "cell_type": "code",
   "execution_count": 620,
   "id": "9c95ae5a-1412-49c8-a76c-7b0ba7d9707e",
   "metadata": {},
   "outputs": [],
   "source": [
    "bins = [0, 30, 45, float('inf')] \n",
    "labels = ['Genç', 'Orta Yaşlı', 'Yaşlı'] \n",
    "df['age_binned'] = pd.cut(df['age'], bins=bins, labels=labels, right=True)"
   ]
  },
  {
   "cell_type": "code",
   "execution_count": 621,
   "id": "07437c89-817f-4220-8eab-35210443d69f",
   "metadata": {},
   "outputs": [
    {
     "data": {
      "text/html": [
       "<div>\n",
       "<style scoped>\n",
       "    .dataframe tbody tr th:only-of-type {\n",
       "        vertical-align: middle;\n",
       "    }\n",
       "\n",
       "    .dataframe tbody tr th {\n",
       "        vertical-align: top;\n",
       "    }\n",
       "\n",
       "    .dataframe thead th {\n",
       "        text-align: right;\n",
       "    }\n",
       "</style>\n",
       "<table border=\"1\" class=\"dataframe\">\n",
       "  <thead>\n",
       "    <tr style=\"text-align: right;\">\n",
       "      <th></th>\n",
       "      <th>age</th>\n",
       "      <th>job</th>\n",
       "      <th>marital</th>\n",
       "      <th>education</th>\n",
       "      <th>default</th>\n",
       "      <th>balance</th>\n",
       "      <th>housing</th>\n",
       "      <th>loan</th>\n",
       "      <th>contact</th>\n",
       "      <th>day</th>\n",
       "      <th>month</th>\n",
       "      <th>duration</th>\n",
       "      <th>campaign</th>\n",
       "      <th>pdays</th>\n",
       "      <th>previous</th>\n",
       "      <th>poutcome</th>\n",
       "      <th>deposit</th>\n",
       "      <th>age_binned</th>\n",
       "    </tr>\n",
       "  </thead>\n",
       "  <tbody>\n",
       "    <tr>\n",
       "      <th>0</th>\n",
       "      <td>59</td>\n",
       "      <td>admin.</td>\n",
       "      <td>married</td>\n",
       "      <td>secondary</td>\n",
       "      <td>0</td>\n",
       "      <td>2343</td>\n",
       "      <td>yes</td>\n",
       "      <td>no</td>\n",
       "      <td>cellular</td>\n",
       "      <td>5</td>\n",
       "      <td>may</td>\n",
       "      <td>1042</td>\n",
       "      <td>1</td>\n",
       "      <td>-1</td>\n",
       "      <td>0</td>\n",
       "      <td>Unknown</td>\n",
       "      <td>yes</td>\n",
       "      <td>Yaşlı</td>\n",
       "    </tr>\n",
       "    <tr>\n",
       "      <th>1</th>\n",
       "      <td>56</td>\n",
       "      <td>admin.</td>\n",
       "      <td>married</td>\n",
       "      <td>secondary</td>\n",
       "      <td>0</td>\n",
       "      <td>45</td>\n",
       "      <td>no</td>\n",
       "      <td>no</td>\n",
       "      <td>cellular</td>\n",
       "      <td>5</td>\n",
       "      <td>may</td>\n",
       "      <td>1467</td>\n",
       "      <td>1</td>\n",
       "      <td>-1</td>\n",
       "      <td>0</td>\n",
       "      <td>Unknown</td>\n",
       "      <td>yes</td>\n",
       "      <td>Yaşlı</td>\n",
       "    </tr>\n",
       "    <tr>\n",
       "      <th>2</th>\n",
       "      <td>41</td>\n",
       "      <td>technician</td>\n",
       "      <td>married</td>\n",
       "      <td>secondary</td>\n",
       "      <td>0</td>\n",
       "      <td>1270</td>\n",
       "      <td>yes</td>\n",
       "      <td>no</td>\n",
       "      <td>cellular</td>\n",
       "      <td>5</td>\n",
       "      <td>may</td>\n",
       "      <td>1389</td>\n",
       "      <td>1</td>\n",
       "      <td>-1</td>\n",
       "      <td>0</td>\n",
       "      <td>Unknown</td>\n",
       "      <td>yes</td>\n",
       "      <td>Orta Yaşlı</td>\n",
       "    </tr>\n",
       "    <tr>\n",
       "      <th>3</th>\n",
       "      <td>55</td>\n",
       "      <td>services</td>\n",
       "      <td>married</td>\n",
       "      <td>secondary</td>\n",
       "      <td>0</td>\n",
       "      <td>2476</td>\n",
       "      <td>yes</td>\n",
       "      <td>no</td>\n",
       "      <td>cellular</td>\n",
       "      <td>5</td>\n",
       "      <td>may</td>\n",
       "      <td>579</td>\n",
       "      <td>1</td>\n",
       "      <td>-1</td>\n",
       "      <td>0</td>\n",
       "      <td>Unknown</td>\n",
       "      <td>yes</td>\n",
       "      <td>Yaşlı</td>\n",
       "    </tr>\n",
       "    <tr>\n",
       "      <th>4</th>\n",
       "      <td>54</td>\n",
       "      <td>admin.</td>\n",
       "      <td>married</td>\n",
       "      <td>tertiary</td>\n",
       "      <td>0</td>\n",
       "      <td>184</td>\n",
       "      <td>no</td>\n",
       "      <td>no</td>\n",
       "      <td>cellular</td>\n",
       "      <td>5</td>\n",
       "      <td>may</td>\n",
       "      <td>673</td>\n",
       "      <td>2</td>\n",
       "      <td>-1</td>\n",
       "      <td>0</td>\n",
       "      <td>Unknown</td>\n",
       "      <td>yes</td>\n",
       "      <td>Yaşlı</td>\n",
       "    </tr>\n",
       "  </tbody>\n",
       "</table>\n",
       "</div>"
      ],
      "text/plain": [
       "   age         job  marital  education  default  balance housing loan  \\\n",
       "0   59      admin.  married  secondary        0     2343     yes   no   \n",
       "1   56      admin.  married  secondary        0       45      no   no   \n",
       "2   41  technician  married  secondary        0     1270     yes   no   \n",
       "3   55    services  married  secondary        0     2476     yes   no   \n",
       "4   54      admin.  married   tertiary        0      184      no   no   \n",
       "\n",
       "    contact  day month  duration  campaign  pdays  previous poutcome deposit  \\\n",
       "0  cellular    5   may      1042         1     -1         0  Unknown     yes   \n",
       "1  cellular    5   may      1467         1     -1         0  Unknown     yes   \n",
       "2  cellular    5   may      1389         1     -1         0  Unknown     yes   \n",
       "3  cellular    5   may       579         1     -1         0  Unknown     yes   \n",
       "4  cellular    5   may       673         2     -1         0  Unknown     yes   \n",
       "\n",
       "   age_binned  \n",
       "0       Yaşlı  \n",
       "1       Yaşlı  \n",
       "2  Orta Yaşlı  \n",
       "3       Yaşlı  \n",
       "4       Yaşlı  "
      ]
     },
     "execution_count": 621,
     "metadata": {},
     "output_type": "execute_result"
    }
   ],
   "source": [
    "df.head()"
   ]
  },
  {
   "cell_type": "markdown",
   "id": "6b73e45c-3313-4806-9ab5-5bad28dac94e",
   "metadata": {},
   "source": [
    "# Outlier-lari handle edin"
   ]
  },
  {
   "cell_type": "code",
   "execution_count": 622,
   "id": "61d57a5f-c6e8-4dab-b4d5-84843899f1e1",
   "metadata": {},
   "outputs": [],
   "source": [
    "# default lazim deyir kategoriyadir"
   ]
  },
  {
   "cell_type": "code",
   "execution_count": 568,
   "id": "1fe84ab6-6c7b-4f2c-9501-272603126c6d",
   "metadata": {},
   "outputs": [
    {
     "data": {
      "image/png": "[encoded data removed]",
      "text/plain": [
       "<Figure size 1200x800 with 7 Axes>"
      ]
     },
     "metadata": {},
     "output_type": "display_data"
    }
   ],
   "source": [
    "numeric_columns = ['age', 'balance', 'duration', 'campaign','day','pdays','previous']\n",
    "\n",
    "plt.figure(figsize=(12, 8))\n",
    "\n",
    "for i, column in enumerate(numeric_columns, 1):\n",
    "    plt.subplot(3, 3, i)  \n",
    "    sns.boxplot(x=df[column])\n",
    "    plt.title(f'Box Plot for {column}')\n",
    "\n",
    "plt.tight_layout()\n",
    "plt.show()\n",
    "\n"
   ]
  },
  {
   "cell_type": "code",
   "execution_count": 569,
   "id": "f2a880de-eb5f-4030-b9ae-5d9bca5b38fa",
   "metadata": {},
   "outputs": [],
   "source": [
    "# day de ehtiyac yoxdur"
   ]
  },
  {
   "cell_type": "code",
   "execution_count": 623,
   "id": "a8d69658-37ad-4692-86c4-fa61c5a62c8d",
   "metadata": {},
   "outputs": [
    {
     "name": "stdout",
     "output_type": "stream",
     "text": [
      "          Outliers Count\n",
      "age                  171\n",
      "balance             1055\n",
      "duration             636\n",
      "campaign             601\n",
      "pdays               2750\n",
      "previous            1258\n"
     ]
    }
   ],
   "source": [
    "numeric_columns = ['age', 'balance', 'duration', 'campaign','pdays','previous']\n",
    "\n",
    "Q1 = df[numeric_columns].quantile(0.25)\n",
    "Q3 = df[numeric_columns].quantile(0.75)\n",
    "IQR = Q3 - Q1\n",
    "outliers_mask = (df[numeric_columns] < (Q1 - 1.5 * IQR)) | (df[numeric_columns] > (Q3 + 1.5 * IQR))\n",
    "outliers_summary = pd.DataFrame({\n",
    "    'Outliers Count': outliers_mask.sum()\n",
    "})\n",
    "print(outliers_summary)"
   ]
  },
  {
   "cell_type": "code",
   "execution_count": 625,
   "id": "471419f4-43fc-4219-8883-19ed66dfca61",
   "metadata": {},
   "outputs": [],
   "source": [
    "# medianla doldurdum"
   ]
  },
  {
   "cell_type": "code",
   "execution_count": null,
   "id": "e47fb314-0031-4aaf-9504-551d13ece2a4",
   "metadata": {},
   "outputs": [],
   "source": []
  },
  {
   "cell_type": "code",
   "execution_count": 626,
   "id": "5925a649-4286-4cc5-b672-a9dce3038773",
   "metadata": {},
   "outputs": [],
   "source": [
    "median_age = df['age'].median()\n",
    "df['age'] = df['age'].where(~outliers_mask['age'], median_age)\n",
    "\n",
    "median_balance = df['balance'].median()\n",
    "df['balance'] = df['balance'].where(~outliers_mask['balance'], median_balance)\n",
    "\n",
    "median_duration = df['duration'].median()\n",
    "df['duration'] = df['duration'].where(~outliers_mask['duration'], median_duration)\n",
    "\n",
    "df['campaign'] = df['campaign'].clip(lower=0, upper=50)\n",
    "\n",
    "median_pdays = df['pdays'].median()\n",
    "df['pdays'] = df['pdays'].where(~outliers_mask['pdays'], median_pdays)\n",
    "\n",
    "median_previous = df['previous'].median()\n",
    "df['previous'] = df['previous'].where(~outliers_mask['previous'], median_previous)\n"
   ]
  },
  {
   "cell_type": "markdown",
   "id": "24d05454-6349-4857-8fae-f6a5a82e65c9",
   "metadata": {},
   "source": [
    "# default olan və olmayan müştərilər üçün balance sütununun ortalama dəyərlərinin ferqi"
   ]
  },
  {
   "cell_type": "code",
   "execution_count": 627,
   "id": "d398169f-356a-435e-a9ab-0a20c00f25f6",
   "metadata": {},
   "outputs": [],
   "source": [
    "mean_balance_default = df[df['default'] == 1]['balance'].mean()  \n",
    "mean_balance_no_default = df[df['default'] == 0]['balance'].mean() "
   ]
  },
  {
   "cell_type": "code",
   "execution_count": 628,
   "id": "31a54e2a-085d-4f35-ae3e-9764cef8019d",
   "metadata": {},
   "outputs": [],
   "source": [
    "difference = mean_balance_default - mean_balance_no_default"
   ]
  },
  {
   "cell_type": "code",
   "execution_count": 629,
   "id": "3691aa21-ab7e-40ae-95db-e652c3daa4c3",
   "metadata": {},
   "outputs": [
    {
     "data": {
      "text/plain": [
       "-843.7627851122257"
      ]
     },
     "execution_count": 629,
     "metadata": {},
     "output_type": "execute_result"
    }
   ],
   "source": [
    "difference"
   ]
  },
  {
   "cell_type": "markdown",
   "id": "8971c3bf-3789-493a-b6fe-ecb2c797eb5a",
   "metadata": {},
   "source": [
    "# default olmus ve olmamis musterilerin balanslarinin histogrami"
   ]
  },
  {
   "cell_type": "code",
   "execution_count": 630,
   "id": "1a79a84d-3764-4ef2-a53e-93d195f9d9d5",
   "metadata": {},
   "outputs": [
    {
     "data": {
      "image/png": "[encoded data removed]",
      "text/plain": [
       "<Figure size 1000x600 with 1 Axes>"
      ]
     },
     "metadata": {},
     "output_type": "display_data"
    }
   ],
   "source": [
    "plt.figure(figsize=(10, 6))\n",
    "plt.hist(df[df['default'] == 1]['balance'], color='blue', bins=30, alpha=0.7, label='Default')\n",
    "plt.title('Histogram of Balance for Default Customers')\n",
    "plt.xlabel('Balance')\n",
    "plt.ylabel('Frequency')\n",
    "plt.legend()\n",
    "plt.show()\n"
   ]
  },
  {
   "cell_type": "code",
   "execution_count": 631,
   "id": "5a69ea6c-26a3-4c99-b829-cdcabad80874",
   "metadata": {},
   "outputs": [
    {
     "data": {
      "image/png": "[encoded data removed]",
      "text/plain": [
       "<Figure size 1000x600 with 1 Axes>"
      ]
     },
     "metadata": {},
     "output_type": "display_data"
    }
   ],
   "source": [
    "plt.figure(figsize=(10, 6))\n",
    "plt.hist(df[df['default'] == 0]['balance'], color='red', bins=30, alpha=0.7, label='Default')\n",
    "plt.title('Histogram of Balance for Non-Default Customers')\n",
    "plt.xlabel('Balance')\n",
    "plt.ylabel('Frequency')\n",
    "plt.legend()\n",
    "plt.show()"
   ]
  },
  {
   "cell_type": "markdown",
   "id": "4b384707-f304-4a5d-8420-3b3168c1100e",
   "metadata": {},
   "source": [
    "# ortalama balansi en cox olan 5 pese"
   ]
  },
  {
   "cell_type": "code",
   "execution_count": 6,
   "id": "5fba35c4-6e86-488e-a87e-8df028d34cb2",
   "metadata": {},
   "outputs": [],
   "source": [
    "average_balance_by_job = df.groupby('job')['balance'].mean()\n",
    "top_5_jobs_by_balance = average_balance_by_job.sort_values(ascending=False).head(5)"
   ]
  },
  {
   "cell_type": "code",
   "execution_count": 7,
   "id": "afe6b12a-961c-4abd-8193-d99af14a365a",
   "metadata": {},
   "outputs": [
    {
     "data": {
      "text/plain": [
       "job\n",
       "retired          2417.250643\n",
       "unknown          1945.457143\n",
       "self-employed    1865.372840\n",
       "management       1793.663679\n",
       "entrepreneur     1621.942073\n",
       "Name: balance, dtype: float64"
      ]
     },
     "execution_count": 7,
     "metadata": {},
     "output_type": "execute_result"
    }
   ],
   "source": [
    "top_5_jobs_by_balance "
   ]
  },
  {
   "cell_type": "markdown",
   "id": "57f73a4b-1780-4239-91e7-2d732e5bb9e5",
   "metadata": {},
   "source": [
    "# ORTLAMA BALANSI EN COX OLAN 5 PESENIN HEM BALANSI HEM DE DEFAULT RATESI GORUNSUN"
   ]
  },
  {
   "cell_type": "code",
   "execution_count": 10,
   "id": "90db3c0e-ac46-47fd-9730-c4a760fed034",
   "metadata": {},
   "outputs": [],
   "source": [
    "default_rate_by_job = df.groupby('job')['default'].apply(lambda x: (x == 1).mean()).round(10)\n",
    "job_stats = pd.DataFrame({\n",
    "    'average_balance': average_balance_by_job,\n",
    "    'default_rate': default_rate_by_job*100\n",
    "})\n",
    "top_5_jobs_stats = job_stats.sort_values(by='average_balance', ascending=False).head(5)"
   ]
  },
  {
   "cell_type": "code",
   "execution_count": 9,
   "id": "ec88ebbb-5768-4102-bded-762c8953af5e",
   "metadata": {},
   "outputs": [
    {
     "data": {
      "text/html": [
       "<div>\n",
       "<style scoped>\n",
       "    .dataframe tbody tr th:only-of-type {\n",
       "        vertical-align: middle;\n",
       "    }\n",
       "\n",
       "    .dataframe tbody tr th {\n",
       "        vertical-align: top;\n",
       "    }\n",
       "\n",
       "    .dataframe thead th {\n",
       "        text-align: right;\n",
       "    }\n",
       "</style>\n",
       "<table border=\"1\" class=\"dataframe\">\n",
       "  <thead>\n",
       "    <tr style=\"text-align: right;\">\n",
       "      <th></th>\n",
       "      <th>average_balance</th>\n",
       "      <th>default_rate</th>\n",
       "    </tr>\n",
       "    <tr>\n",
       "      <th>job</th>\n",
       "      <th></th>\n",
       "      <th></th>\n",
       "    </tr>\n",
       "  </thead>\n",
       "  <tbody>\n",
       "    <tr>\n",
       "      <th>retired</th>\n",
       "      <td>2417.250643</td>\n",
       "      <td>0.0</td>\n",
       "    </tr>\n",
       "    <tr>\n",
       "      <th>unknown</th>\n",
       "      <td>1945.457143</td>\n",
       "      <td>0.0</td>\n",
       "    </tr>\n",
       "    <tr>\n",
       "      <th>self-employed</th>\n",
       "      <td>1865.372840</td>\n",
       "      <td>0.0</td>\n",
       "    </tr>\n",
       "    <tr>\n",
       "      <th>management</th>\n",
       "      <td>1793.663679</td>\n",
       "      <td>0.0</td>\n",
       "    </tr>\n",
       "    <tr>\n",
       "      <th>entrepreneur</th>\n",
       "      <td>1621.942073</td>\n",
       "      <td>0.0</td>\n",
       "    </tr>\n",
       "  </tbody>\n",
       "</table>\n",
       "</div>"
      ],
      "text/plain": [
       "               average_balance  default_rate\n",
       "job                                         \n",
       "retired            2417.250643           0.0\n",
       "unknown            1945.457143           0.0\n",
       "self-employed      1865.372840           0.0\n",
       "management         1793.663679           0.0\n",
       "entrepreneur       1621.942073           0.0"
      ]
     },
     "execution_count": 9,
     "metadata": {},
     "output_type": "execute_result"
    }
   ],
   "source": [
    "top_5_jobs_stats"
   ]
  },
  {
   "cell_type": "markdown",
   "id": "484cbc60-5749-4513-a3b2-8b6dfd5a31e9",
   "metadata": {},
   "source": [
    "# default rate columnun adini deyisib target"
   ]
  },
  {
   "cell_type": "code",
   "execution_count": 636,
   "id": "10cc4360-4a7f-47d6-830a-4bacb20b5256",
   "metadata": {},
   "outputs": [],
   "source": [
    "df.rename(columns={'default': 'target'}, inplace=True)"
   ]
  },
  {
   "cell_type": "code",
   "execution_count": 637,
   "id": "3ead35d0-1e64-41c9-839e-a98a85bfb557",
   "metadata": {},
   "outputs": [
    {
     "data": {
      "text/html": [
       "<div>\n",
       "<style scoped>\n",
       "    .dataframe tbody tr th:only-of-type {\n",
       "        vertical-align: middle;\n",
       "    }\n",
       "\n",
       "    .dataframe tbody tr th {\n",
       "        vertical-align: top;\n",
       "    }\n",
       "\n",
       "    .dataframe thead th {\n",
       "        text-align: right;\n",
       "    }\n",
       "</style>\n",
       "<table border=\"1\" class=\"dataframe\">\n",
       "  <thead>\n",
       "    <tr style=\"text-align: right;\">\n",
       "      <th></th>\n",
       "      <th>age</th>\n",
       "      <th>job</th>\n",
       "      <th>marital</th>\n",
       "      <th>education</th>\n",
       "      <th>target</th>\n",
       "      <th>balance</th>\n",
       "      <th>housing</th>\n",
       "      <th>loan</th>\n",
       "      <th>contact</th>\n",
       "      <th>day</th>\n",
       "      <th>month</th>\n",
       "      <th>duration</th>\n",
       "      <th>campaign</th>\n",
       "      <th>pdays</th>\n",
       "      <th>previous</th>\n",
       "      <th>poutcome</th>\n",
       "      <th>deposit</th>\n",
       "      <th>age_binned</th>\n",
       "    </tr>\n",
       "  </thead>\n",
       "  <tbody>\n",
       "    <tr>\n",
       "      <th>0</th>\n",
       "      <td>59</td>\n",
       "      <td>admin.</td>\n",
       "      <td>married</td>\n",
       "      <td>secondary</td>\n",
       "      <td>0</td>\n",
       "      <td>2343</td>\n",
       "      <td>yes</td>\n",
       "      <td>no</td>\n",
       "      <td>cellular</td>\n",
       "      <td>5</td>\n",
       "      <td>may</td>\n",
       "      <td>255</td>\n",
       "      <td>1</td>\n",
       "      <td>-1</td>\n",
       "      <td>0</td>\n",
       "      <td>Unknown</td>\n",
       "      <td>yes</td>\n",
       "      <td>Yaşlı</td>\n",
       "    </tr>\n",
       "    <tr>\n",
       "      <th>1</th>\n",
       "      <td>56</td>\n",
       "      <td>admin.</td>\n",
       "      <td>married</td>\n",
       "      <td>secondary</td>\n",
       "      <td>0</td>\n",
       "      <td>45</td>\n",
       "      <td>no</td>\n",
       "      <td>no</td>\n",
       "      <td>cellular</td>\n",
       "      <td>5</td>\n",
       "      <td>may</td>\n",
       "      <td>255</td>\n",
       "      <td>1</td>\n",
       "      <td>-1</td>\n",
       "      <td>0</td>\n",
       "      <td>Unknown</td>\n",
       "      <td>yes</td>\n",
       "      <td>Yaşlı</td>\n",
       "    </tr>\n",
       "    <tr>\n",
       "      <th>2</th>\n",
       "      <td>41</td>\n",
       "      <td>technician</td>\n",
       "      <td>married</td>\n",
       "      <td>secondary</td>\n",
       "      <td>0</td>\n",
       "      <td>1270</td>\n",
       "      <td>yes</td>\n",
       "      <td>no</td>\n",
       "      <td>cellular</td>\n",
       "      <td>5</td>\n",
       "      <td>may</td>\n",
       "      <td>255</td>\n",
       "      <td>1</td>\n",
       "      <td>-1</td>\n",
       "      <td>0</td>\n",
       "      <td>Unknown</td>\n",
       "      <td>yes</td>\n",
       "      <td>Orta Yaşlı</td>\n",
       "    </tr>\n",
       "    <tr>\n",
       "      <th>3</th>\n",
       "      <td>55</td>\n",
       "      <td>services</td>\n",
       "      <td>married</td>\n",
       "      <td>secondary</td>\n",
       "      <td>0</td>\n",
       "      <td>2476</td>\n",
       "      <td>yes</td>\n",
       "      <td>no</td>\n",
       "      <td>cellular</td>\n",
       "      <td>5</td>\n",
       "      <td>may</td>\n",
       "      <td>579</td>\n",
       "      <td>1</td>\n",
       "      <td>-1</td>\n",
       "      <td>0</td>\n",
       "      <td>Unknown</td>\n",
       "      <td>yes</td>\n",
       "      <td>Yaşlı</td>\n",
       "    </tr>\n",
       "    <tr>\n",
       "      <th>4</th>\n",
       "      <td>54</td>\n",
       "      <td>admin.</td>\n",
       "      <td>married</td>\n",
       "      <td>tertiary</td>\n",
       "      <td>0</td>\n",
       "      <td>184</td>\n",
       "      <td>no</td>\n",
       "      <td>no</td>\n",
       "      <td>cellular</td>\n",
       "      <td>5</td>\n",
       "      <td>may</td>\n",
       "      <td>673</td>\n",
       "      <td>2</td>\n",
       "      <td>-1</td>\n",
       "      <td>0</td>\n",
       "      <td>Unknown</td>\n",
       "      <td>yes</td>\n",
       "      <td>Yaşlı</td>\n",
       "    </tr>\n",
       "  </tbody>\n",
       "</table>\n",
       "</div>"
      ],
      "text/plain": [
       "   age         job  marital  education  target  balance housing loan  \\\n",
       "0   59      admin.  married  secondary       0     2343     yes   no   \n",
       "1   56      admin.  married  secondary       0       45      no   no   \n",
       "2   41  technician  married  secondary       0     1270     yes   no   \n",
       "3   55    services  married  secondary       0     2476     yes   no   \n",
       "4   54      admin.  married   tertiary       0      184      no   no   \n",
       "\n",
       "    contact  day month  duration  campaign  pdays  previous poutcome deposit  \\\n",
       "0  cellular    5   may       255         1     -1         0  Unknown     yes   \n",
       "1  cellular    5   may       255         1     -1         0  Unknown     yes   \n",
       "2  cellular    5   may       255         1     -1         0  Unknown     yes   \n",
       "3  cellular    5   may       579         1     -1         0  Unknown     yes   \n",
       "4  cellular    5   may       673         2     -1         0  Unknown     yes   \n",
       "\n",
       "   age_binned  \n",
       "0       Yaşlı  \n",
       "1       Yaşlı  \n",
       "2  Orta Yaşlı  \n",
       "3       Yaşlı  \n",
       "4       Yaşlı  "
      ]
     },
     "execution_count": 637,
     "metadata": {},
     "output_type": "execute_result"
    }
   ],
   "source": [
    "df.head()"
   ]
  },
  {
   "cell_type": "markdown",
   "id": "a525e3cc-5ea8-47b7-bb2c-8b3c62b1a2d0",
   "metadata": {},
   "source": [
    "# duration guneli aya cevirin"
   ]
  },
  {
   "cell_type": "code",
   "execution_count": 638,
   "id": "cca35321-a7c0-4214-b221-000228784799",
   "metadata": {},
   "outputs": [
    {
     "data": {
      "text/plain": [
       "0        255\n",
       "1        255\n",
       "2        255\n",
       "3        579\n",
       "4        673\n",
       "        ... \n",
       "11157    257\n",
       "11158     83\n",
       "11159    156\n",
       "11160      9\n",
       "11161    628\n",
       "Name: duration, Length: 11162, dtype: int64"
      ]
     },
     "execution_count": 638,
     "metadata": {},
     "output_type": "execute_result"
    }
   ],
   "source": [
    "df[\"duration\"]"
   ]
  },
  {
   "cell_type": "code",
   "execution_count": 639,
   "id": "27673e8a-d22d-4110-bd61-d56daf03a423",
   "metadata": {},
   "outputs": [],
   "source": [
    "df['duration'] = df['duration'] / 30\n",
    "df['duration'] = df['duration'].round(1).astype(float)\n"
   ]
  },
  {
   "cell_type": "code",
   "execution_count": 640,
   "id": "37b7dc85-f1cf-4f6a-a334-b7dc33e093c6",
   "metadata": {},
   "outputs": [
    {
     "data": {
      "text/plain": [
       "0         8.5\n",
       "1         8.5\n",
       "2         8.5\n",
       "3        19.3\n",
       "4        22.4\n",
       "         ... \n",
       "11157     8.6\n",
       "11158     2.8\n",
       "11159     5.2\n",
       "11160     0.3\n",
       "11161    20.9\n",
       "Name: duration, Length: 11162, dtype: float64"
      ]
     },
     "execution_count": 640,
     "metadata": {},
     "output_type": "execute_result"
    }
   ],
   "source": [
    "df[\"duration\"]"
   ]
  },
  {
   "cell_type": "markdown",
   "id": "808340fb-e8d0-4512-ba1f-cac36e082b2e",
   "metadata": {},
   "source": [
    "# educationla depositin elaqesi varmi? correlation"
   ]
  },
  {
   "cell_type": "code",
   "execution_count": 641,
   "id": "752ddda9-2ac4-4040-b356-b5cfac28094b",
   "metadata": {},
   "outputs": [
    {
     "data": {
      "text/plain": [
       "array(['secondary', 'tertiary', 'primary'], dtype=object)"
      ]
     },
     "execution_count": 641,
     "metadata": {},
     "output_type": "execute_result"
    }
   ],
   "source": [
    "df[\"education\"].unique()"
   ]
  },
  {
   "cell_type": "code",
   "execution_count": null,
   "id": "4bcfa9ee-cd04-47ed-ad49-e87cd46ee02d",
   "metadata": {},
   "outputs": [],
   "source": [
    "# elAQE VAR"
   ]
  },
  {
   "cell_type": "code",
   "execution_count": 642,
   "id": "828aca13-f276-4609-b744-ed9f7faafa0e",
   "metadata": {},
   "outputs": [
    {
     "name": "stdout",
     "output_type": "stream",
     "text": [
      "                   education_encoded  deposit_encoded\n",
      "education_encoded           1.000000         0.002134\n",
      "deposit_encoded             0.002134         1.000000\n"
     ]
    }
   ],
   "source": [
    "df['education_encoded'] = df['education'].map({'secondary': 0, 'tertiary': 1, 'primary': 2})\n",
    "df['deposit_encoded'] = df['deposit'].map({'no': 0, 'yes': 1})\n",
    "correlation = df[['education_encoded', 'deposit_encoded']].corr()\n",
    "print(correlation)\n"
   ]
  },
  {
   "cell_type": "code",
   "execution_count": 643,
   "id": "4b583494-31d1-4cbf-b9c7-ac1daa84e516",
   "metadata": {},
   "outputs": [],
   "source": [
    "# no relationship"
   ]
  },
  {
   "cell_type": "markdown",
   "id": "9ede8e82-5f74-4520-93b5-647558caf030",
   "metadata": {},
   "source": [
    "# jop and education together"
   ]
  },
  {
   "cell_type": "code",
   "execution_count": 644,
   "id": "38758aaf-74aa-4a47-9fba-ebfe910fc181",
   "metadata": {},
   "outputs": [],
   "source": [
    "df['job_education'] = df['job'] + \"_\" + df['education']"
   ]
  },
  {
   "cell_type": "code",
   "execution_count": 645,
   "id": "ce173848-b46e-4d96-b6ea-102a065748f5",
   "metadata": {},
   "outputs": [
    {
     "data": {
      "text/plain": [
       "0            admin._secondary\n",
       "1            admin._secondary\n",
       "2        technician_secondary\n",
       "3          services_secondary\n",
       "4             admin._tertiary\n",
       "                 ...         \n",
       "11157     blue-collar_primary\n",
       "11158      services_secondary\n",
       "11159    technician_secondary\n",
       "11160    technician_secondary\n",
       "11161    technician_secondary\n",
       "Name: job_education, Length: 11162, dtype: object"
      ]
     },
     "execution_count": 645,
     "metadata": {},
     "output_type": "execute_result"
    }
   ],
   "source": [
    "df['job_education']"
   ]
  }
 ],
 "metadata": {
  "kernelspec": {
   "display_name": "Python 3 (ipykernel)",
   "language": "python",
   "name": "python3"
  },
  "language_info": {
   "codemirror_mode": {
    "name": "ipython",
    "version": 3
   },
   "file_extension": ".py",
   "mimetype": "text/x-python",
   "name": "python",
   "nbconvert_exporter": "python",
   "pygments_lexer": "ipython3",
   "version": "3.11.7"
  }
 },
 "nbformat": 4,
 "nbformat_minor": 5
}
